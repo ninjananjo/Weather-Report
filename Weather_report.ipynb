{
 "cells": [
  {
   "cell_type": "code",
   "execution_count": 12,
   "metadata": {},
   "outputs": [
    {
     "name": "stdout",
     "output_type": "stream",
     "text": [
      "Requirement already satisfied: pandas in /srv/conda/envs/notebook/lib/python3.7/site-packages (0.25.3)\n",
      "Requirement already satisfied: python-dateutil>=2.6.1 in /srv/conda/envs/notebook/lib/python3.7/site-packages (from pandas) (2.8.0)\n",
      "Requirement already satisfied: pytz>=2017.2 in /srv/conda/envs/notebook/lib/python3.7/site-packages (from pandas) (2019.3)\n",
      "Requirement already satisfied: numpy>=1.13.3 in /srv/conda/envs/notebook/lib/python3.7/site-packages (from pandas) (1.18.1)\n",
      "Requirement already satisfied: six>=1.5 in /srv/conda/envs/notebook/lib/python3.7/site-packages (from python-dateutil>=2.6.1->pandas) (1.12.0)\n"
     ]
    }
   ],
   "source": [
    "!pip install pandas\n",
    "\n",
    "import pandas as pd\n",
    "import numpy as np\n",
    "import requests # library to handle requests\n",
    "import json # library to handle JSON files\n",
    "from pandas.io.json import json_normalize\n",
    "from datetime import datetime, date, timedelta\n",
    "import os.path \n",
    "from os import path"
   ]
  },
  {
   "cell_type": "code",
   "execution_count": 13,
   "metadata": {},
   "outputs": [],
   "source": [
    "#returns weather json data from weatherstack api\n",
    "def request_weather_json(key, date, location):\n",
    "    params = {\n",
    "        'access_key': key,\n",
    "        'query': location,\n",
    "        'historical_date': date,\n",
    "        'hourly': '1',\n",
    "        'interval': '1'\n",
    "        }\n",
    "\n",
    "    api_result = requests.get('https://api.weatherstack.com/historical', params)\n",
    "    api_response = api_result.json()\n",
    "    print(api_response['location'])\n",
    "    return api_response"
   ]
  },
  {
   "cell_type": "code",
   "execution_count": 14,
   "metadata": {},
   "outputs": [],
   "source": [
    "#Formats weather json data and outputs to detailed_weather_report.csv\n",
    "def append_weather_data(json):\n",
    "    json_historical = json_normalize(data=json['historical'][date], errors='ignore')\n",
    "    detailed_weather_report = json_normalize(data=json_historical['hourly'][0], meta=['day'], meta_prefix='pre', errors='ignore')\n",
    "    detailed_weather_report['location'] = json['location']['name']\n",
    "    detailed_weather_report['date'] = date\n",
    "    \n",
    "    if path.exists(\"detailed_weather_report.csv\"):\n",
    "        detailed_weather_report.to_csv('detailed_weather_report.csv', mode='a', header=False)\n",
    "    else:\n",
    "        detailed_weather_report.to_csv('detailed_weather_report.csv')"
   ]
  },
  {
   "cell_type": "code",
   "execution_count": 15,
   "metadata": {},
   "outputs": [],
   "source": [
    "def create_report():\n",
    "    detailed_weather_df = pd.read_csv(\"detailed_weather_report.csv\")\n",
    "    weather_df = detailed_weather_df[detailed_weather_df['Unnamed: 0'].between(9,17)]\n",
    "    weather_df['precip'].replace({0:np.nan}, inplace=True)\n",
    "    weather_df = weather_df.groupby(['location','date']).agg({'precip':'count', 'temperature': 'max'}).reset_index().rename(columns={'precip':'Hours Rain', 'temperature':'Max Temp'})\n",
    "    weather_df.to_csv('weather_report.csv')\n",
    "    weather_df"
   ]
  },
  {
   "cell_type": "code",
   "execution_count": 28,
   "metadata": {},
   "outputs": [
    {
     "data": {
      "text/html": [
       "<div>\n",
       "<style scoped>\n",
       "    .dataframe tbody tr th:only-of-type {\n",
       "        vertical-align: middle;\n",
       "    }\n",
       "\n",
       "    .dataframe tbody tr th {\n",
       "        vertical-align: top;\n",
       "    }\n",
       "\n",
       "    .dataframe thead tr th {\n",
       "        text-align: left;\n",
       "    }\n",
       "\n",
       "    .dataframe thead tr:last-of-type th {\n",
       "        text-align: right;\n",
       "    }\n",
       "</style>\n",
       "<table border=\"1\" class=\"dataframe\">\n",
       "  <thead>\n",
       "    <tr>\n",
       "      <th></th>\n",
       "      <th colspan=\"6\" halign=\"left\">RH%</th>\n",
       "      <th colspan=\"6\" halign=\"left\">TMP</th>\n",
       "    </tr>\n",
       "    <tr>\n",
       "      <th>date</th>\n",
       "      <th>2020-01-05</th>\n",
       "      <th>2020-01-06</th>\n",
       "      <th>2020-01-07</th>\n",
       "      <th>2020-01-19</th>\n",
       "      <th>2020-01-20</th>\n",
       "      <th>2020-01-21</th>\n",
       "      <th>2020-01-05</th>\n",
       "      <th>2020-01-06</th>\n",
       "      <th>2020-01-07</th>\n",
       "      <th>2020-01-19</th>\n",
       "      <th>2020-01-20</th>\n",
       "      <th>2020-01-21</th>\n",
       "    </tr>\n",
       "    <tr>\n",
       "      <th>location</th>\n",
       "      <th></th>\n",
       "      <th></th>\n",
       "      <th></th>\n",
       "      <th></th>\n",
       "      <th></th>\n",
       "      <th></th>\n",
       "      <th></th>\n",
       "      <th></th>\n",
       "      <th></th>\n",
       "      <th></th>\n",
       "      <th></th>\n",
       "      <th></th>\n",
       "    </tr>\n",
       "  </thead>\n",
       "  <tbody>\n",
       "    <tr>\n",
       "      <th>Belfast</th>\n",
       "      <td>0.0</td>\n",
       "      <td>33.0</td>\n",
       "      <td>78.0</td>\n",
       "      <td>78.0</td>\n",
       "      <td>89.0</td>\n",
       "      <td>100.0</td>\n",
       "      <td>10.0</td>\n",
       "      <td>9.0</td>\n",
       "      <td>14.0</td>\n",
       "      <td>2.0</td>\n",
       "      <td>3.0</td>\n",
       "      <td>7.0</td>\n",
       "    </tr>\n",
       "    <tr>\n",
       "      <th>Glasgow</th>\n",
       "      <td>11.0</td>\n",
       "      <td>78.0</td>\n",
       "      <td>100.0</td>\n",
       "      <td>67.0</td>\n",
       "      <td>89.0</td>\n",
       "      <td>100.0</td>\n",
       "      <td>8.0</td>\n",
       "      <td>9.0</td>\n",
       "      <td>12.0</td>\n",
       "      <td>2.0</td>\n",
       "      <td>3.0</td>\n",
       "      <td>6.0</td>\n",
       "    </tr>\n",
       "    <tr>\n",
       "      <th>Leeming</th>\n",
       "      <td>0.0</td>\n",
       "      <td>33.0</td>\n",
       "      <td>11.0</td>\n",
       "      <td>67.0</td>\n",
       "      <td>56.0</td>\n",
       "      <td>89.0</td>\n",
       "      <td>8.0</td>\n",
       "      <td>8.0</td>\n",
       "      <td>11.0</td>\n",
       "      <td>2.0</td>\n",
       "      <td>1.0</td>\n",
       "      <td>4.0</td>\n",
       "    </tr>\n",
       "    <tr>\n",
       "      <th>London</th>\n",
       "      <td>0.0</td>\n",
       "      <td>11.0</td>\n",
       "      <td>0.0</td>\n",
       "      <td>100.0</td>\n",
       "      <td>100.0</td>\n",
       "      <td>100.0</td>\n",
       "      <td>9.0</td>\n",
       "      <td>8.0</td>\n",
       "      <td>11.0</td>\n",
       "      <td>6.0</td>\n",
       "      <td>7.0</td>\n",
       "      <td>8.0</td>\n",
       "    </tr>\n",
       "  </tbody>\n",
       "</table>\n",
       "</div>"
      ],
      "text/plain": [
       "                RH%                                                         \\\n",
       "date     2020-01-05 2020-01-06 2020-01-07 2020-01-19 2020-01-20 2020-01-21   \n",
       "location                                                                     \n",
       "Belfast         0.0       33.0       78.0       78.0       89.0      100.0   \n",
       "Glasgow        11.0       78.0      100.0       67.0       89.0      100.0   \n",
       "Leeming         0.0       33.0       11.0       67.0       56.0       89.0   \n",
       "London          0.0       11.0        0.0      100.0      100.0      100.0   \n",
       "\n",
       "                TMP                                                         \n",
       "date     2020-01-05 2020-01-06 2020-01-07 2020-01-19 2020-01-20 2020-01-21  \n",
       "location                                                                    \n",
       "Belfast        10.0        9.0       14.0        2.0        3.0        7.0  \n",
       "Glasgow         8.0        9.0       12.0        2.0        3.0        6.0  \n",
       "Leeming         8.0        8.0       11.0        2.0        1.0        4.0  \n",
       "London          9.0        8.0       11.0        6.0        7.0        8.0  "
      ]
     },
     "execution_count": 28,
     "metadata": {},
     "output_type": "execute_result"
    }
   ],
   "source": [
    "detailed_weather_df = pd.read_csv(\"detailed_weather_report.csv\")\n",
    "weather_df = detailed_weather_df[detailed_weather_df['Unnamed: 0'].between(9,17)]\n",
    "weather_df['precip'].replace({0:np.nan}, inplace=True)\n",
    "weather_df = weather_df.groupby(['location','date']).agg({'precip':'count', 'temperature': 'max'}).reset_index().rename(columns={'precip':'RH', 'temperature':'TMP'})\n",
    "weather_df['RH%'] = round(weather_df['RH']/9*100,0)\n",
    "weather_df.pivot(index='location', columns='date', values=['RH%', 'TMP'])\n",
    "#weather_df"
   ]
  },
  {
   "cell_type": "code",
   "execution_count": 16,
   "metadata": {},
   "outputs": [
    {
     "data": {
      "text/plain": [
       "['2020-01-19', '2020-01-20', '2020-01-21']"
      ]
     },
     "execution_count": 16,
     "metadata": {},
     "output_type": "execute_result"
    }
   ],
   "source": [
    "today = datetime.now().date()\n",
    "week_start = today - timedelta(days=today.weekday()+1)\n",
    "\n",
    "# this will give you a list containing all of the dates\n",
    "week_days = [(week_start + timedelta(days=x)).isoformat() for x in range((today-week_start).days + 1)]\n",
    "\n",
    "week_days"
   ]
  },
  {
   "cell_type": "code",
   "execution_count": 20,
   "metadata": {},
   "outputs": [
    {
     "name": "stderr",
     "output_type": "stream",
     "text": [
      "/srv/conda/envs/notebook/lib/python3.7/site-packages/pandas/core/generic.py:6786: SettingWithCopyWarning: \n",
      "A value is trying to be set on a copy of a slice from a DataFrame\n",
      "\n",
      "See the caveats in the documentation: http://pandas.pydata.org/pandas-docs/stable/user_guide/indexing.html#returning-a-view-versus-a-copy\n",
      "  self._update_inplace(new_data)\n"
     ]
    }
   ],
   "source": [
    "key = '8c5dad538cf97d8347dbfda0e9369f25'\n",
    "#dates = ['2020-01-01', '2020-01-02']\n",
    "dates = week_days\n",
    "#regions = ['Glasgow, UK', 'leeming, UK', 'London, UK', 'Belfast']\n",
    "regions_dict = {'RegionID':[1, 3, 6, 8],'Region':['Glasgow, UK', 'leeming, UK', 'London, UK', 'Belfast']}\n",
    "\n",
    "for region in regions_dict['Region']:\n",
    "    for date in dates:    \n",
    "        json = request_weather_json(key, date, region)\n",
    "        append_weather_data(json)\n",
    "        \n",
    "create_report()"
   ]
  },
  {
   "cell_type": "code",
   "execution_count": null,
   "metadata": {},
   "outputs": [],
   "source": []
  }
 ],
 "metadata": {
  "kernelspec": {
   "display_name": "Python 3",
   "language": "python",
   "name": "python3"
  },
  "language_info": {
   "codemirror_mode": {
    "name": "ipython",
    "version": 3
   },
   "file_extension": ".py",
   "mimetype": "text/x-python",
   "name": "python",
   "nbconvert_exporter": "python",
   "pygments_lexer": "ipython3",
   "version": "3.7.3"
  }
 },
 "nbformat": 4,
 "nbformat_minor": 2
}
