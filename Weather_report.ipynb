{
 "cells": [
  {
   "cell_type": "code",
   "execution_count": 1,
   "metadata": {},
   "outputs": [
    {
     "name": "stdout",
     "output_type": "stream",
     "text": [
      "Collecting pandas\n",
      "\u001b[?25l  Downloading https://files.pythonhosted.org/packages/63/e0/a1b39cdcb2c391f087a1538bc8a6d62a82d0439693192aef541d7b123769/pandas-0.25.3-cp37-cp37m-manylinux1_x86_64.whl (10.4MB)\n",
      "\u001b[K     |████████████████████████████████| 10.4MB 3.5MB/s eta 0:00:01    |█████████████████████████████▌  | 9.6MB 3.5MB/s eta 0:00:01\n",
      "\u001b[?25hCollecting numpy>=1.13.3 (from pandas)\n",
      "\u001b[?25l  Downloading https://files.pythonhosted.org/packages/63/0c/0261693cc3ad8e2b66e66dc2d2676a2cc17d3efb1c58a70db73754320e47/numpy-1.18.1-cp37-cp37m-manylinux1_x86_64.whl (20.1MB)\n",
      "\u001b[K     |████████████████████████████████| 20.1MB 154kB/s  eta 0:00:01    |████████▊                       | 5.5MB 30.0MB/s eta 0:00:01\n",
      "\u001b[?25hCollecting pytz>=2017.2 (from pandas)\n",
      "\u001b[?25l  Downloading https://files.pythonhosted.org/packages/e7/f9/f0b53f88060247251bf481fa6ea62cd0d25bf1b11a87888e53ce5b7c8ad2/pytz-2019.3-py2.py3-none-any.whl (509kB)\n",
      "\u001b[K     |████████████████████████████████| 512kB 16.9MB/s eta 0:00:01\n",
      "\u001b[?25hRequirement already satisfied: python-dateutil>=2.6.1 in /srv/conda/envs/notebook/lib/python3.7/site-packages (from pandas) (2.8.0)\n",
      "Requirement already satisfied: six>=1.5 in /srv/conda/envs/notebook/lib/python3.7/site-packages (from python-dateutil>=2.6.1->pandas) (1.12.0)\n",
      "Installing collected packages: numpy, pytz, pandas\n",
      "Successfully installed numpy-1.18.1 pandas-0.25.3 pytz-2019.3\n"
     ]
    }
   ],
   "source": [
    "!pip install pandas\n",
    "\n",
    "import pandas as pd\n",
    "import numpy as np\n",
    "import requests # library to handle requests\n",
    "import json # library to handle JSON files\n",
    "from pandas.io.json import json_normalize\n",
    "from datetime import datetime, date, timedelta\n",
    "import os.path \n",
    "from os import path"
   ]
  },
  {
   "cell_type": "code",
   "execution_count": 4,
   "metadata": {},
   "outputs": [],
   "source": [
    "#returns weather json data from weatherstack api\n",
    "def request_weather_json(key, date, location):\n",
    "    params = {\n",
    "        'access_key': key,\n",
    "        'query': location,\n",
    "        'historical_date': date,\n",
    "        'hourly': '1',\n",
    "        'interval': '1'\n",
    "        }\n",
    "\n",
    "    api_result = requests.get('https://api.weatherstack.com/historical', params)\n",
    "    api_response = api_result.json()\n",
    "    #print(api_response['location'])\n",
    "    return api_response"
   ]
  },
  {
   "cell_type": "code",
   "execution_count": 5,
   "metadata": {},
   "outputs": [],
   "source": [
    "#Formats weather json data and outputs to detailed_weather_report.csv\n",
    "def append_weather_data(json):\n",
    "    json_historical = json_normalize(data=json['historical'][date], errors='ignore')\n",
    "    detailed_weather_report = json_normalize(data=json_historical['hourly'][0], meta=['day'], meta_prefix='pre', errors='ignore')\n",
    "    detailed_weather_report['location'] = json['location']['name']\n",
    "    detailed_weather_report['date'] = date\n",
    "    \n",
    "    if path.exists(\"detailed_weather_report.csv\"):\n",
    "        detailed_weather_report.to_csv('detailed_weather_report.csv', mode='a', header=False)\n",
    "    else:\n",
    "        detailed_weather_report.to_csv('detailed_weather_report.csv')"
   ]
  },
  {
   "cell_type": "code",
   "execution_count": 6,
   "metadata": {},
   "outputs": [],
   "source": [
    "def create_report():\n",
    "    detailed_weather_df = pd.read_csv(\"detailed_weather_report.csv\")\n",
    "    weather_df = detailed_weather_df[detailed_weather_df['Unnamed: 0'].between(9,17)]\n",
    "    weather_df['precip'].replace({0:np.nan}, inplace=True)\n",
    "    weather_df = weather_df.groupby(['location','date']).agg({'precip':'count', 'temperature': 'max'}).reset_index().rename(columns={'precip':'Hours Rain', 'temperature':'Max Temp'})\n",
    "    weather_df.to_csv('weather_report.csv')\n",
    "    weather_df"
   ]
  },
  {
   "cell_type": "code",
   "execution_count": 7,
   "metadata": {},
   "outputs": [
    {
     "data": {
      "text/plain": [
       "['2020-01-19', '2020-01-20', '2020-01-21']"
      ]
     },
     "execution_count": 7,
     "metadata": {},
     "output_type": "execute_result"
    }
   ],
   "source": [
    "today = datetime.now().date()\n",
    "week_start = today - timedelta(days=today.weekday()+1)\n",
    "\n",
    "# this will give you a list containing all of the dates\n",
    "week_days = [(week_start + timedelta(days=x)).isoformat() for x in range((today-week_start).days + 1)]\n",
    "\n",
    "week_days"
   ]
  },
  {
   "cell_type": "code",
   "execution_count": null,
   "metadata": {},
   "outputs": [],
   "source": [
    "#regions_dict = {'RegionID':1, 3, 6, 8 'Region':'Glasgow, UK', 'leeming, UK', 'London, UK', 'Belfast'}\n",
    "regions_dict = {('RegionID':1,'Region':'Glasgow, UK')}\n",
    "print(regions_dict)"
   ]
  },
  {
   "cell_type": "code",
   "execution_count": 62,
   "metadata": {},
   "outputs": [
    {
     "name": "stdout",
     "output_type": "stream",
     "text": [
      "{'name': 'Glasgow', 'country': 'United Kingdom', 'region': 'Glasgow City', 'lat': '55.862', 'lon': '-4.247', 'timezone_id': 'Europe/London', 'localtime': '2020-01-07 21:35', 'localtime_epoch': 1578432900, 'utc_offset': '0.0'}\n",
      "{'name': 'Glasgow', 'country': 'United Kingdom', 'region': 'Glasgow City', 'lat': '55.862', 'lon': '-4.247', 'timezone_id': 'Europe/London', 'localtime': '2020-01-07 21:35', 'localtime_epoch': 1578432900, 'utc_offset': '0.0'}\n",
      "{'name': 'Glasgow', 'country': 'United Kingdom', 'region': 'Glasgow City', 'lat': '55.862', 'lon': '-4.247', 'timezone_id': 'Europe/London', 'localtime': '2020-01-07 21:35', 'localtime_epoch': 1578432900, 'utc_offset': '0.0'}\n",
      "{'name': 'Leeming', 'country': 'United Kingdom', 'region': 'West Yorkshire', 'lat': '53.807', 'lon': '-1.933', 'timezone_id': 'Europe/London', 'localtime': '2020-01-07 21:35', 'localtime_epoch': 1578432900, 'utc_offset': '0.0'}\n",
      "{'name': 'Leeming', 'country': 'United Kingdom', 'region': 'West Yorkshire', 'lat': '53.807', 'lon': '-1.933', 'timezone_id': 'Europe/London', 'localtime': '2020-01-07 21:35', 'localtime_epoch': 1578432900, 'utc_offset': '0.0'}\n",
      "{'name': 'Leeming', 'country': 'United Kingdom', 'region': 'West Yorkshire', 'lat': '53.807', 'lon': '-1.933', 'timezone_id': 'Europe/London', 'localtime': '2020-01-07 21:35', 'localtime_epoch': 1578432900, 'utc_offset': '0.0'}\n",
      "{'name': 'London', 'country': 'United Kingdom', 'region': 'City of London, Greater London', 'lat': '51.517', 'lon': '-0.106', 'timezone_id': 'Europe/London', 'localtime': '2020-01-07 21:35', 'localtime_epoch': 1578432900, 'utc_offset': '0.0'}\n",
      "{'name': 'London', 'country': 'United Kingdom', 'region': 'City of London, Greater London', 'lat': '51.517', 'lon': '-0.106', 'timezone_id': 'Europe/London', 'localtime': '2020-01-07 21:35', 'localtime_epoch': 1578432900, 'utc_offset': '0.0'}\n",
      "{'name': 'London', 'country': 'United Kingdom', 'region': 'City of London, Greater London', 'lat': '51.517', 'lon': '-0.106', 'timezone_id': 'Europe/London', 'localtime': '2020-01-07 21:35', 'localtime_epoch': 1578432900, 'utc_offset': '0.0'}\n",
      "{'name': 'Belfast', 'country': 'United Kingdom', 'region': 'Belfast', 'lat': '54.583', 'lon': '-5.933', 'timezone_id': 'Europe/London', 'localtime': '2020-01-07 21:35', 'localtime_epoch': 1578432900, 'utc_offset': '0.0'}\n",
      "{'name': 'Belfast', 'country': 'United Kingdom', 'region': 'Belfast', 'lat': '54.583', 'lon': '-5.933', 'timezone_id': 'Europe/London', 'localtime': '2020-01-07 21:35', 'localtime_epoch': 1578432900, 'utc_offset': '0.0'}\n",
      "{'name': 'Belfast', 'country': 'United Kingdom', 'region': 'Belfast', 'lat': '54.583', 'lon': '-5.933', 'timezone_id': 'Europe/London', 'localtime': '2020-01-07 21:35', 'localtime_epoch': 1578432900, 'utc_offset': '0.0'}\n"
     ]
    }
   ],
   "source": [
    "key = '8c5dad538cf97d8347dbfda0e9369f25'\n",
    "#dates = ['2020-01-01', '2020-01-02']\n",
    "dates = week_days\n",
    "regions = ['Glasgow, UK', 'leeming, UK', 'London, UK', 'Belfast']\n",
    "regions_dict = {'RegionID':1, 3, 6, 8 'Region':'Glasgow, UK', 'leeming, UK', 'London, UK', 'Belfast'}\n",
    "\n",
    "for location in locations:\n",
    "    for date in dates:    \n",
    "        json = request_weather_json(key, date, regions)\n",
    "        append_weather_data(json)\n",
    "        \n",
    "create_report()"
   ]
  },
  {
   "cell_type": "code",
   "execution_count": null,
   "metadata": {},
   "outputs": [],
   "source": []
  }
 ],
 "metadata": {
  "kernelspec": {
   "display_name": "Python 3",
   "language": "python",
   "name": "python3"
  },
  "language_info": {
   "codemirror_mode": {
    "name": "ipython",
    "version": 3
   },
   "file_extension": ".py",
   "mimetype": "text/x-python",
   "name": "python",
   "nbconvert_exporter": "python",
   "pygments_lexer": "ipython3",
   "version": "3.7.3"
  }
 },
 "nbformat": 4,
 "nbformat_minor": 2
}
