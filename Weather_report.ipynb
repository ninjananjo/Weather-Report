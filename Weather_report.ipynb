{
 "cells": [
  {
   "cell_type": "code",
   "execution_count": 2,
   "metadata": {},
   "outputs": [
    {
     "name": "stdout",
     "output_type": "stream",
     "text": [
      "Requirement already satisfied: pandas in /opt/conda/envs/Python36/lib/python3.6/site-packages (0.24.1)\n",
      "Requirement already satisfied: numpy>=1.12.0 in /opt/conda/envs/Python36/lib/python3.6/site-packages (from pandas) (1.15.4)\n",
      "Requirement already satisfied: python-dateutil>=2.5.0 in /opt/conda/envs/Python36/lib/python3.6/site-packages (from pandas) (2.7.5)\n",
      "Requirement already satisfied: pytz>=2011k in /opt/conda/envs/Python36/lib/python3.6/site-packages (from pandas) (2018.9)\n",
      "Requirement already satisfied: six>=1.5 in /opt/conda/envs/Python36/lib/python3.6/site-packages (from python-dateutil>=2.5.0->pandas) (1.12.0)\n"
     ]
    }
   ],
   "source": [
    "!pip install pandas\n",
    "\n",
    "import pandas as pd\n",
    "import numpy as np\n",
    "import requests # library to handle requests\n",
    "import json # library to handle JSON files\n",
    "from pandas.io.json import json_normalize\n",
    "from datetime import datetime, date, timedelta\n",
    "import os.path \n",
    "from os import path\n",
    "import smtplib \n",
    "from email.mime.multipart import MIMEMultipart \n",
    "from email.mime.text import MIMEText \n",
    "from email.mime.base import MIMEBase \n",
    "from email import encoders\n",
    "from project_lib import Project\n",
    "\n",
    "# IBM Data Studio credentials\n",
    "project = Project(project_id='', project_access_token='')\n",
    "pc = project.project_context"
   ]
  },
  {
   "cell_type": "code",
   "execution_count": 9,
   "metadata": {},
   "outputs": [],
   "source": [
    "def request_weather_json(key, date, location):\n",
    "    \"\"\"Returns weather json data from Weatherstack API\"\"\"\n",
    "    params = {\n",
    "        'access_key': key,\n",
    "        'query': location,\n",
    "        'historical_date': date,\n",
    "        'hourly': '1',\n",
    "        'interval': '1'\n",
    "        }\n",
    "    api_result = requests.get('https://api.weatherstack.com/historical', params)\n",
    "    api_response = api_result.json()\n",
    "    return api_response"
   ]
  },
  {
   "cell_type": "code",
   "execution_count": 5,
   "metadata": {},
   "outputs": [],
   "source": [
    "def format_json(json):\n",
    "    \"\"\"Formats weather json data into a Dataframe\"\"\"\n",
    "    json_historical = json_normalize(data=json['historical'][date], errors='ignore')\n",
    "    detailed_weather_report = json_normalize(data=json_historical['hourly'][0], meta=['day'], meta_prefix='pre', errors='ignore')\n",
    "    detailed_weather_report['location'] = json['location']['name']\n",
    "    detailed_weather_report['date'] = date\n",
    "    return detailed_weather_report"
   ]
  },
  {
   "cell_type": "code",
   "execution_count": 6,
   "metadata": {},
   "outputs": [],
   "source": [
    "def create_report():\n",
    "    \"\"\"Summarises the detailed weather data into a simple report\"\"\"\n",
    "    detailed_weather_df = project.get_file(\"detailed_weather_report.csv\")\n",
    "    detailed_weather_df = pd.read_csv(detailed_weather_df)\n",
    "    weather_df = detailed_weather_df[detailed_weather_df['Unnamed: 0'].between(9,17)] # excludes hours outside working hours\n",
    "    weather_df['precip'].replace({0:np.nan}, inplace=True)\n",
    "    weather_df = weather_df.groupby(['location','date']).agg({'precip':'count', 'temperature': 'max'}).reset_index().rename(columns={'temperature':'Max Temp', 'precip':'Rainfall Hours'})\n",
    "    weather_df['Rainfall Hours %'] = round(weather_df['Rainfall Hours']/9*100,0)\n",
    "    weather_df = weather_df.pivot_table(index='location', columns='date', values=['Max Temp','Rainfall Hours','Rainfall Hours %']).stack(0).reset_index()\n",
    "    project.save_data('weather_report.csv', weather_df.to_csv(index=False), overwrite=True)"
   ]
  },
  {
   "cell_type": "code",
   "execution_count": 7,
   "metadata": {},
   "outputs": [],
   "source": [
    "def email_report():\n",
    "    \"\"\"emails weather data\"\"\"\n",
    "    fromaddr = \"\" # From email\n",
    "    toaddresses = [\""] # Recipient list\n",
    "    for toaddr in toaddresses:\n",
    "        msg = MIMEMultipart() \n",
    "        msg['From'] = fromaddr \n",
    "        msg['To'] = toaddr\n",
    "        msg['Subject'] = \"Weather data beta\"\n",
    "        body = \"See attached the weather data\"\n",
    "        msg.attach(MIMEText(body, 'plain'))\n",
    "        attachment = project.get_file(\"weather_report.csv\")\n",
    "        filename = \"weather_report.csv\"\n",
    "        p = MIMEBase('application', 'octet-stream') \n",
    "        p.set_payload((attachment).read()) \n",
    "        encoders.encode_base64(p) \n",
    "        p.add_header('Content-Disposition', \"attachment; filename= %s\" % filename) \n",
    "        msg.attach(p) \n",
    "        s = smtplib.SMTP('smtp.gmail.com', 587) \n",
    "        s.starttls() \n",
    "        s.login(fromaddr, \"70berners\") \n",
    "        text = msg.as_string() \n",
    "        s.sendmail(fromaddr, toaddr, text) \n",
    "        s.quit() "
   ]
  },
  {
   "cell_type": "code",
   "execution_count": 10,
   "metadata": {},
   "outputs": [
    {
     "name": "stdout",
     "output_type": "stream",
     "text": [
      "{'name': 'Glasgow', 'country': 'United Kingdom', 'region': 'Glasgow City', 'lat': '55.862', 'lon': '-4.247', 'timezone_id': 'Europe/London', 'localtime': '2020-03-08 12:42', 'localtime_epoch': 1583671320, 'utc_offset': '0.0'}\n",
      "{'name': 'Glasgow', 'country': 'United Kingdom', 'region': 'Glasgow City', 'lat': '55.862', 'lon': '-4.247', 'timezone_id': 'Europe/London', 'localtime': '2020-03-08 12:42', 'localtime_epoch': 1583671320, 'utc_offset': '0.0'}\n",
      "{'name': 'Glasgow', 'country': 'United Kingdom', 'region': 'Glasgow City', 'lat': '55.862', 'lon': '-4.247', 'timezone_id': 'Europe/London', 'localtime': '2020-03-08 12:42', 'localtime_epoch': 1583671320, 'utc_offset': '0.0'}\n",
      "{'name': 'Glasgow', 'country': 'United Kingdom', 'region': 'Glasgow City', 'lat': '55.862', 'lon': '-4.247', 'timezone_id': 'Europe/London', 'localtime': '2020-03-08 12:42', 'localtime_epoch': 1583671320, 'utc_offset': '0.0'}\n",
      "{'name': 'Glasgow', 'country': 'United Kingdom', 'region': 'Glasgow City', 'lat': '55.862', 'lon': '-4.247', 'timezone_id': 'Europe/London', 'localtime': '2020-03-08 12:42', 'localtime_epoch': 1583671320, 'utc_offset': '0.0'}\n",
      "{'name': 'Glasgow', 'country': 'United Kingdom', 'region': 'Glasgow City', 'lat': '55.862', 'lon': '-4.247', 'timezone_id': 'Europe/London', 'localtime': '2020-03-08 12:42', 'localtime_epoch': 1583671320, 'utc_offset': '0.0'}\n",
      "{'name': 'Glasgow', 'country': 'United Kingdom', 'region': 'Glasgow City', 'lat': '55.862', 'lon': '-4.247', 'timezone_id': 'Europe/London', 'localtime': '2020-03-08 12:42', 'localtime_epoch': 1583671320, 'utc_offset': '0.0'}\n",
      "{'name': 'Birmingham', 'country': 'United Kingdom', 'region': 'West Midlands', 'lat': '52.485', 'lon': '-1.862', 'timezone_id': 'Europe/London', 'localtime': '2020-03-08 12:41', 'localtime_epoch': 1583671260, 'utc_offset': '0.0'}\n",
      "{'name': 'Birmingham', 'country': 'United Kingdom', 'region': 'West Midlands', 'lat': '52.485', 'lon': '-1.862', 'timezone_id': 'Europe/London', 'localtime': '2020-03-08 12:41', 'localtime_epoch': 1583671260, 'utc_offset': '0.0'}\n",
      "{'name': 'Birmingham', 'country': 'United Kingdom', 'region': 'West Midlands', 'lat': '52.485', 'lon': '-1.862', 'timezone_id': 'Europe/London', 'localtime': '2020-03-08 12:41', 'localtime_epoch': 1583671260, 'utc_offset': '0.0'}\n",
      "{'name': 'Birmingham', 'country': 'United Kingdom', 'region': 'West Midlands', 'lat': '52.485', 'lon': '-1.862', 'timezone_id': 'Europe/London', 'localtime': '2020-03-08 12:41', 'localtime_epoch': 1583671260, 'utc_offset': '0.0'}\n",
      "{'name': 'Birmingham', 'country': 'United Kingdom', 'region': 'West Midlands', 'lat': '52.485', 'lon': '-1.862', 'timezone_id': 'Europe/London', 'localtime': '2020-03-08 12:41', 'localtime_epoch': 1583671260, 'utc_offset': '0.0'}\n",
      "{'name': 'Birmingham', 'country': 'United Kingdom', 'region': 'West Midlands', 'lat': '52.485', 'lon': '-1.862', 'timezone_id': 'Europe/London', 'localtime': '2020-03-08 12:41', 'localtime_epoch': 1583671260, 'utc_offset': '0.0'}\n",
      "{'name': 'Birmingham', 'country': 'United Kingdom', 'region': 'West Midlands', 'lat': '52.485', 'lon': '-1.862', 'timezone_id': 'Europe/London', 'localtime': '2020-03-08 12:41', 'localtime_epoch': 1583671260, 'utc_offset': '0.0'}\n",
      "{'name': 'London', 'country': 'United Kingdom', 'region': 'City of London, Greater London', 'lat': '51.517', 'lon': '-0.106', 'timezone_id': 'Europe/London', 'localtime': '2020-03-08 12:41', 'localtime_epoch': 1583671260, 'utc_offset': '0.0'}\n",
      "{'name': 'London', 'country': 'United Kingdom', 'region': 'City of London, Greater London', 'lat': '51.517', 'lon': '-0.106', 'timezone_id': 'Europe/London', 'localtime': '2020-03-08 12:41', 'localtime_epoch': 1583671260, 'utc_offset': '0.0'}\n",
      "{'name': 'London', 'country': 'United Kingdom', 'region': 'City of London, Greater London', 'lat': '51.517', 'lon': '-0.106', 'timezone_id': 'Europe/London', 'localtime': '2020-03-08 12:41', 'localtime_epoch': 1583671260, 'utc_offset': '0.0'}\n",
      "{'name': 'London', 'country': 'United Kingdom', 'region': 'City of London, Greater London', 'lat': '51.517', 'lon': '-0.106', 'timezone_id': 'Europe/London', 'localtime': '2020-03-08 12:41', 'localtime_epoch': 1583671260, 'utc_offset': '0.0'}\n",
      "{'name': 'London', 'country': 'United Kingdom', 'region': 'City of London, Greater London', 'lat': '51.517', 'lon': '-0.106', 'timezone_id': 'Europe/London', 'localtime': '2020-03-08 12:41', 'localtime_epoch': 1583671260, 'utc_offset': '0.0'}\n",
      "{'name': 'London', 'country': 'United Kingdom', 'region': 'City of London, Greater London', 'lat': '51.517', 'lon': '-0.106', 'timezone_id': 'Europe/London', 'localtime': '2020-03-08 12:41', 'localtime_epoch': 1583671260, 'utc_offset': '0.0'}\n",
      "{'name': 'London', 'country': 'United Kingdom', 'region': 'City of London, Greater London', 'lat': '51.517', 'lon': '-0.106', 'timezone_id': 'Europe/London', 'localtime': '2020-03-08 12:41', 'localtime_epoch': 1583671260, 'utc_offset': '0.0'}\n",
      "{'name': 'Belfast', 'country': 'United Kingdom', 'region': 'Belfast', 'lat': '54.583', 'lon': '-5.933', 'timezone_id': 'Europe/London', 'localtime': '2020-03-08 12:42', 'localtime_epoch': 1583671320, 'utc_offset': '0.0'}\n",
      "{'name': 'Belfast', 'country': 'United Kingdom', 'region': 'Belfast', 'lat': '54.583', 'lon': '-5.933', 'timezone_id': 'Europe/London', 'localtime': '2020-03-08 12:42', 'localtime_epoch': 1583671320, 'utc_offset': '0.0'}\n",
      "{'name': 'Belfast', 'country': 'United Kingdom', 'region': 'Belfast', 'lat': '54.583', 'lon': '-5.933', 'timezone_id': 'Europe/London', 'localtime': '2020-03-08 12:42', 'localtime_epoch': 1583671320, 'utc_offset': '0.0'}\n",
      "{'name': 'Belfast', 'country': 'United Kingdom', 'region': 'Belfast', 'lat': '54.583', 'lon': '-5.933', 'timezone_id': 'Europe/London', 'localtime': '2020-03-08 12:42', 'localtime_epoch': 1583671320, 'utc_offset': '0.0'}\n",
      "{'name': 'Belfast', 'country': 'United Kingdom', 'region': 'Belfast', 'lat': '54.583', 'lon': '-5.933', 'timezone_id': 'Europe/London', 'localtime': '2020-03-08 12:42', 'localtime_epoch': 1583671320, 'utc_offset': '0.0'}\n",
      "{'name': 'Belfast', 'country': 'United Kingdom', 'region': 'Belfast', 'lat': '54.583', 'lon': '-5.933', 'timezone_id': 'Europe/London', 'localtime': '2020-03-08 12:42', 'localtime_epoch': 1583671320, 'utc_offset': '0.0'}\n",
      "{'name': 'Belfast', 'country': 'United Kingdom', 'region': 'Belfast', 'lat': '54.583', 'lon': '-5.933', 'timezone_id': 'Europe/London', 'localtime': '2020-03-08 12:42', 'localtime_epoch': 1583671320, 'utc_offset': '0.0'}\n",
      "672\n"
     ]
    },
    {
     "name": "stderr",
     "output_type": "stream",
     "text": [
      "/opt/conda/envs/Python36/lib/python3.6/site-packages/pandas/core/generic.py:6586: SettingWithCopyWarning: \n",
      "A value is trying to be set on a copy of a slice from a DataFrame\n",
      "\n",
      "See the caveats in the documentation: http://pandas.pydata.org/pandas-docs/stable/indexing.html#indexing-view-versus-copy\n",
      "  self._update_inplace(new_data)\n"
     ]
    }
   ],
   "source": [
    "# creates list of dates for this week\n",
    "today = datetime.now().date()\n",
    "week_start = today - timedelta(days=today.weekday()+1)\n",
    "week_days = [(week_start + timedelta(days=x)).isoformat() for x in range((today-week_start).days)]\n",
    "# dates = ['2020-01-01', '2020-01-02'] # Use for adhoc dates\n",
    "dates = week_days\n",
    "\n",
    "locations = ['Glasgow, UK', 'Birmingham, UK', 'London, UK', 'Belfast'] # Choose locations\n",
    "\n",
    "key = '' # Weatherstack key\n",
    "\n",
    "csv_file = pd.DataFrame()\n",
    "for location in locations:\n",
    "    for date in dates:    \n",
    "        json = request_weather_json(key, date, location)\n",
    "        csv_file = csv_file.append(format_json(json))\n",
    "        \n",
    "print(csv_file.shape[0])\n",
    "project.save_data('detailed_weather_report.csv', csv_file.to_csv(index=True), overwrite=True)        \n",
    "        \n",
    "create_report()\n",
    "email_report()"
   ]
  }
 ],
 "metadata": {
  "kernelspec": {
   "display_name": "Python 3.6",
   "language": "python",
   "name": "python3"
  },
  "language_info": {
   "codemirror_mode": {
    "name": "ipython",
    "version": 3
   },
   "file_extension": ".py",
   "mimetype": "text/x-python",
   "name": "python",
   "nbconvert_exporter": "python",
   "pygments_lexer": "ipython3",
   "version": "3.6.9"
  }
 },
 "nbformat": 4,
 "nbformat_minor": 2
}
