{
 "cells": [
  {
   "cell_type": "code",
   "execution_count": 54,
   "metadata": {},
   "outputs": [
    {
     "name": "stdout",
     "output_type": "stream",
     "text": [
      "Requirement already satisfied: pandas in c:\\users\\james\\appdata\\local\\continuum\\anaconda3\\lib\\site-packages (0.24.2)\n",
      "Requirement already satisfied: pytz>=2011k in c:\\users\\james\\appdata\\local\\continuum\\anaconda3\\lib\\site-packages (from pandas) (2018.9)\n",
      "Requirement already satisfied: python-dateutil>=2.5.0 in c:\\users\\james\\appdata\\local\\continuum\\anaconda3\\lib\\site-packages (from pandas) (2.8.0)\n",
      "Requirement already satisfied: numpy>=1.12.0 in c:\\users\\james\\appdata\\local\\continuum\\anaconda3\\lib\\site-packages (from pandas) (1.16.2)\n",
      "Requirement already satisfied: six>=1.5 in c:\\users\\james\\appdata\\local\\continuum\\anaconda3\\lib\\site-packages (from python-dateutil>=2.5.0->pandas) (1.12.0)\n"
     ]
    }
   ],
   "source": [
    "!pip install pandas\n",
    "\n",
    "import pandas as pd\n",
    "import numpy as np\n",
    "import requests # library to handle requests\n",
    "import json # library to handle JSON files\n",
    "from pandas.io.json import json_normalize\n",
    "from datetime import datetime, date, timedelta\n",
    "import os.path \n",
    "from os import path"
   ]
  },
  {
   "cell_type": "code",
   "execution_count": 24,
   "metadata": {},
   "outputs": [],
   "source": [
    "#returns weather json data from weatherstack api\n",
    "def request_weather_json(key, date, location):\n",
    "    params = {\n",
    "        'access_key': key,\n",
    "        'query': location,\n",
    "        'historical_date': date,\n",
    "        'hourly': '1',\n",
    "        'interval': '1'\n",
    "        }\n",
    "\n",
    "    api_result = requests.get('https://api.weatherstack.com/historical', params)\n",
    "    api_response = api_result.json()\n",
    "    print(api_response['location'])\n",
    "    return api_response"
   ]
  },
  {
   "cell_type": "code",
   "execution_count": 25,
   "metadata": {},
   "outputs": [],
   "source": [
    "#Formats weather json data and outputs to detailed_weather_report.csv\n",
    "def append_weather_data(json):\n",
    "    json_historical = json_normalize(data=json['historical'][date], errors='ignore')\n",
    "    detailed_weather_report = json_normalize(data=json_historical['hourly'][0], meta=['day'], meta_prefix='pre', errors='ignore')\n",
    "    detailed_weather_report['location'] = json['location']['name']\n",
    "    detailed_weather_report['date'] = date\n",
    "    \n",
    "    if path.exists(\"detailed_weather_report.csv\"):\n",
    "        detailed_weather_report.to_csv('detailed_weather_report.csv', mode='a', header=False)\n",
    "    else:\n",
    "        detailed_weather_report.to_csv('detailed_weather_report.csv')"
   ]
  },
  {
   "cell_type": "code",
   "execution_count": 26,
   "metadata": {},
   "outputs": [],
   "source": [
    "def create_report():\n",
    "    detailed_weather_df = pd.read_csv(\"detailed_weather_report.csv\")\n",
    "    weather_df = detailed_weather_df[detailed_weather_df['Unnamed: 0'].between(9,17)]\n",
    "    weather_df['precip'].replace({0:np.nan}, inplace=True)\n",
    "    weather_df = weather_df.groupby(['location','date']).agg({'precip':'count', 'temperature': 'max'}).reset_index().rename(columns={'precip':'Hours Rain', 'temperature':'Max Temp'})\n",
    "    weather_df.to_csv('weather_report.csv')\n",
    "    weather_df"
   ]
  },
  {
   "cell_type": "code",
   "execution_count": 61,
   "metadata": {},
   "outputs": [
    {
     "data": {
      "text/plain": [
       "['2020-01-05', '2020-01-06', '2020-01-07']"
      ]
     },
     "execution_count": 61,
     "metadata": {},
     "output_type": "execute_result"
    }
   ],
   "source": [
    "today = datetime.now().date()\n",
    "week_start = today - timedelta(days=today.weekday()+1)\n",
    "\n",
    "# this will give you a list containing all of the dates\n",
    "week_days = [(week_start + timedelta(days=x)).isoformat() for x in range((today-week_start).days + 1)]\n",
    "\n",
    "week_days"
   ]
  },
  {
   "cell_type": "code",
   "execution_count": 62,
   "metadata": {},
   "outputs": [
    {
     "name": "stdout",
     "output_type": "stream",
     "text": [
      "{'name': 'Glasgow', 'country': 'United Kingdom', 'region': 'Glasgow City', 'lat': '55.862', 'lon': '-4.247', 'timezone_id': 'Europe/London', 'localtime': '2020-01-07 21:35', 'localtime_epoch': 1578432900, 'utc_offset': '0.0'}\n",
      "{'name': 'Glasgow', 'country': 'United Kingdom', 'region': 'Glasgow City', 'lat': '55.862', 'lon': '-4.247', 'timezone_id': 'Europe/London', 'localtime': '2020-01-07 21:35', 'localtime_epoch': 1578432900, 'utc_offset': '0.0'}\n",
      "{'name': 'Glasgow', 'country': 'United Kingdom', 'region': 'Glasgow City', 'lat': '55.862', 'lon': '-4.247', 'timezone_id': 'Europe/London', 'localtime': '2020-01-07 21:35', 'localtime_epoch': 1578432900, 'utc_offset': '0.0'}\n",
      "{'name': 'Leeming', 'country': 'United Kingdom', 'region': 'West Yorkshire', 'lat': '53.807', 'lon': '-1.933', 'timezone_id': 'Europe/London', 'localtime': '2020-01-07 21:35', 'localtime_epoch': 1578432900, 'utc_offset': '0.0'}\n",
      "{'name': 'Leeming', 'country': 'United Kingdom', 'region': 'West Yorkshire', 'lat': '53.807', 'lon': '-1.933', 'timezone_id': 'Europe/London', 'localtime': '2020-01-07 21:35', 'localtime_epoch': 1578432900, 'utc_offset': '0.0'}\n",
      "{'name': 'Leeming', 'country': 'United Kingdom', 'region': 'West Yorkshire', 'lat': '53.807', 'lon': '-1.933', 'timezone_id': 'Europe/London', 'localtime': '2020-01-07 21:35', 'localtime_epoch': 1578432900, 'utc_offset': '0.0'}\n",
      "{'name': 'London', 'country': 'United Kingdom', 'region': 'City of London, Greater London', 'lat': '51.517', 'lon': '-0.106', 'timezone_id': 'Europe/London', 'localtime': '2020-01-07 21:35', 'localtime_epoch': 1578432900, 'utc_offset': '0.0'}\n",
      "{'name': 'London', 'country': 'United Kingdom', 'region': 'City of London, Greater London', 'lat': '51.517', 'lon': '-0.106', 'timezone_id': 'Europe/London', 'localtime': '2020-01-07 21:35', 'localtime_epoch': 1578432900, 'utc_offset': '0.0'}\n",
      "{'name': 'London', 'country': 'United Kingdom', 'region': 'City of London, Greater London', 'lat': '51.517', 'lon': '-0.106', 'timezone_id': 'Europe/London', 'localtime': '2020-01-07 21:35', 'localtime_epoch': 1578432900, 'utc_offset': '0.0'}\n",
      "{'name': 'Belfast', 'country': 'United Kingdom', 'region': 'Belfast', 'lat': '54.583', 'lon': '-5.933', 'timezone_id': 'Europe/London', 'localtime': '2020-01-07 21:35', 'localtime_epoch': 1578432900, 'utc_offset': '0.0'}\n",
      "{'name': 'Belfast', 'country': 'United Kingdom', 'region': 'Belfast', 'lat': '54.583', 'lon': '-5.933', 'timezone_id': 'Europe/London', 'localtime': '2020-01-07 21:35', 'localtime_epoch': 1578432900, 'utc_offset': '0.0'}\n",
      "{'name': 'Belfast', 'country': 'United Kingdom', 'region': 'Belfast', 'lat': '54.583', 'lon': '-5.933', 'timezone_id': 'Europe/London', 'localtime': '2020-01-07 21:35', 'localtime_epoch': 1578432900, 'utc_offset': '0.0'}\n"
     ]
    }
   ],
   "source": [
    "key = '8c5dad538cf97d8347dbfda0e9369f25'\n",
    "#dates = ['2020-01-01', '2020-01-02']\n",
    "dates = week_days\n",
    "locations = ['Glasgow, UK', 'leeming, UK', 'London, UK', 'Belfast']\n",
    "\n",
    "for location in locations:\n",
    "    for date in dates:    \n",
    "        json = request_weather_json(key, date, location)\n",
    "        append_weather_data(json)\n",
    "        \n",
    "create_report()"
   ]
  },
  {
   "cell_type": "code",
   "execution_count": null,
   "metadata": {},
   "outputs": [],
   "source": []
  }
 ],
 "metadata": {
  "kernelspec": {
   "display_name": "Python 3",
   "language": "python",
   "name": "python3"
  },
  "language_info": {
   "codemirror_mode": {
    "name": "ipython",
    "version": 3
   },
   "file_extension": ".py",
   "mimetype": "text/x-python",
   "name": "python",
   "nbconvert_exporter": "python",
   "pygments_lexer": "ipython3",
   "version": "3.7.3"
  }
 },
 "nbformat": 4,
 "nbformat_minor": 2
}
